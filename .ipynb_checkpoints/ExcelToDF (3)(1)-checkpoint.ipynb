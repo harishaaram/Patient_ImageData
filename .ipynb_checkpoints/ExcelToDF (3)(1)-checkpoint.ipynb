{
 "cells": [
  {
   "cell_type": "code",
   "execution_count": 1,
   "metadata": {
    "collapsed": true
   },
   "outputs": [],
   "source": [
    "import cv2\n",
    "import numpy as np\n",
    "from PIL import Image, ImageDraw\n",
    "from matplotlib import pyplot as plt\n",
    "import numpy as np\n",
    "import pandas as pd\n",
    "from sklearn.cluster import KMeans\n",
    "local = \"./\"\n",
    "%matplotlib inline\n",
    "from sklearn.metrics import silhouette_samples, silhouette_score\n",
    "from sklearn.cluster import DBSCAN\n",
    "from sklearn.preprocessing import StandardScaler"
   ]
  },
  {
   "cell_type": "markdown",
   "metadata": {},
   "source": [
    "### Coeff"
   ]
  },
  {
   "cell_type": "code",
   "execution_count": 2,
   "metadata": {
    "collapsed": true
   },
   "outputs": [],
   "source": [
    "MORPH = 7\n",
    "CANNY = 50\n",
    "file = 'new2.jpg'"
   ]
  },
  {
   "cell_type": "code",
   "execution_count": 3,
   "metadata": {
    "collapsed": true
   },
   "outputs": [],
   "source": [
    "img_org = cv2.imread(file)"
   ]
  },
  {
   "cell_type": "code",
   "execution_count": 4,
   "metadata": {
    "scrolled": true
   },
   "outputs": [
    {
     "data": {
      "text/plain": [
       "4032"
      ]
     },
     "execution_count": 4,
     "metadata": {},
     "output_type": "execute_result"
    }
   ],
   "source": [
    "img_org.shape[1]"
   ]
  },
  {
   "cell_type": "code",
   "execution_count": 5,
   "metadata": {
    "collapsed": true
   },
   "outputs": [],
   "source": [
    "img_black = np.zeros((img_org.shape[0],img_org.shape[1],3), np.uint8)"
   ]
  },
  {
   "cell_type": "code",
   "execution_count": 6,
   "metadata": {
    "collapsed": true
   },
   "outputs": [],
   "source": [
    "gray = cv2.cvtColor( img_org, cv2.COLOR_BGR2GRAY )\n",
    "edges  = cv2.Canny( gray, 10, CANNY )\n",
    "# edges = cv2.Canny(gray, 10, 150, apertureSize=3)\n",
    "kernel = cv2.getStructuringElement( cv2.MORPH_RECT, ( MORPH, MORPH ) )\n",
    "# kernel = cv2.getStructuringElement( cv2.MORPH_RECT, ( MORPH, MORPH ) )\n",
    "closed = cv2.morphologyEx( edges, cv2.MORPH_CLOSE, kernel )\n",
    "im2, contours, hierarchy  = cv2.findContours( closed, cv2.RETR_EXTERNAL, cv2.CHAIN_APPROX_SIMPLE )"
   ]
  },
  {
   "cell_type": "markdown",
   "metadata": {},
   "source": [
    "### HoughLinesP"
   ]
  },
  {
   "cell_type": "code",
   "execution_count": 7,
   "metadata": {
    "collapsed": true
   },
   "outputs": [],
   "source": [
    "img_org = cv2.imread(file)\n",
    "gray = cv2.cvtColor(img_org,cv2.COLOR_BGR2GRAY)\n",
    "edges = cv2.Canny(gray,50,150,apertureSize = 3)\n",
    "lines = cv2.HoughLines(edges,1,np.pi/2,200)\n",
    "lengh = 1500\n",
    "ls_x = list()\n",
    "ls_y = list()\n",
    "for line in lines:\n",
    "    for rho,theta in line:\n",
    "#         ls_rho.append(rho)\n",
    "#         ls_theta.append(theta)\n",
    "        a = np.cos(theta)\n",
    "        b = np.sin(theta)\n",
    "        \n",
    "        x0 = a*rho\n",
    "        y0 = b*rho\n",
    "        x1 = int(x0 + lengh*(-b))\n",
    "        y1 = int(y0 + lengh*(a))\n",
    "        x2 = int(x0 - lengh*(-b))\n",
    "        y2 = int(y0 - lengh*(a))\n",
    "        ls_x.append(x0)\n",
    "        ls_y.append(y0)"
   ]
  },
  {
   "cell_type": "code",
   "execution_count": 9,
   "metadata": {
    "collapsed": true
   },
   "outputs": [],
   "source": [
    "scaler = StandardScaler()"
   ]
  },
  {
   "cell_type": "code",
   "execution_count": 10,
   "metadata": {},
   "outputs": [],
   "source": [
    "df_loc  = pd.DataFrame([ls_x])\n",
    "df_loc = df_loc.transpose()\n",
    "df_loc = df_loc.round()\n",
    "df_loc_scaled = scaler.fit_transform(df_loc)\n",
    "db = DBSCAN(eps=0.1, min_samples=1).fit(df_loc_scaled)\n",
    "df_loc['labels'] = db.labels_\n",
    "ls_x = list()\n",
    "for i  in df_loc['labels'].unique():\n",
    "    ls_x.append(df_loc[df_loc['labels'] == i].mean().values)\n",
    "ls_x = pd.DataFrame(ls_x)\n",
    "ls_x = ls_x.iloc[:,0]\n",
    "ls_x = ls_x.round()\n",
    "ls_x = list(ls_x)\n",
    "ls_x = sorted(ls_x)"
   ]
  },
  {
   "cell_type": "code",
   "execution_count": 13,
   "metadata": {},
   "outputs": [],
   "source": [
    "df_loc  = pd.DataFrame([ls_y])\n",
    "df_loc = df_loc.transpose()\n",
    "df_loc = df_loc.round()\n",
    "df_loc_scaled = scaler.fit_transform(df_loc)\n",
    "db = DBSCAN(eps=0.1, min_samples=1).fit(df_loc_scaled)\n",
    "df_loc['labels'] = db.labels_\n",
    "ls_y = list()\n",
    "for i  in df_loc['labels'].unique():\n",
    "    ls_y.append(df_loc[df_loc['labels'] == i].mean().values)\n",
    "ls_y = pd.DataFrame(ls_y)\n",
    "ls_y = ls_y.iloc[:,0]\n",
    "ls_y = ls_y.round()\n",
    "ls_y = list(ls_y) \n",
    "ls_y = sorted(ls_y)"
   ]
  },
  {
   "cell_type": "code",
   "execution_count": 1463,
   "metadata": {
    "collapsed": true
   },
   "outputs": [],
   "source": [
    "for y0 in ls_y:\n",
    "    y0 = int(y0)\n",
    "    cv2.line(img_org,(0,y0),(0+img_org.shape[1],y0),(0,0,255),2)"
   ]
  },
  {
   "cell_type": "code",
   "execution_count": 1464,
   "metadata": {
    "collapsed": true
   },
   "outputs": [],
   "source": [
    "for x0 in ls_x:\n",
    "    x0 = int(x0)\n",
    "    cv2.line(img_org,(x0,0),(x0,0+img_org.shape[1]),(0,0,255),2)"
   ]
  },
  {
   "cell_type": "code",
   "execution_count": 1465,
   "metadata": {
    "scrolled": false
   },
   "outputs": [
    {
     "data": {
      "text/plain": [
       "True"
      ]
     },
     "execution_count": 1465,
     "metadata": {},
     "output_type": "execute_result"
    }
   ],
   "source": [
    "cv2.imwrite(local + \"result_line.jpg\", img_org)"
   ]
  }
 ],
 "metadata": {
  "kernelspec": {
   "display_name": "Python 3",
   "language": "python",
   "name": "python3"
  },
  "language_info": {
   "codemirror_mode": {
    "name": "ipython",
    "version": 3
   },
   "file_extension": ".py",
   "mimetype": "text/x-python",
   "name": "python",
   "nbconvert_exporter": "python",
   "pygments_lexer": "ipython3",
   "version": "3.5.2"
  }
 },
 "nbformat": 4,
 "nbformat_minor": 2
}
