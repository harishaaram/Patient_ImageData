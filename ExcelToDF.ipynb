{
 "cells": [
  {
   "cell_type": "markdown",
   "metadata": {},
   "source": [
    "# Diagnozer_OO"
   ]
  },
  {
   "cell_type": "code",
   "execution_count": 1,
   "metadata": {
    "collapsed": true
   },
   "outputs": [],
   "source": [
    "import cv2\n",
    "import numpy as np\n",
    "import os\n",
    "os.chdir(\"/home/harish/PycharmProjects/Patient_ImageData\")"
   ]
  },
  {
   "cell_type": "code",
   "execution_count": 2,
   "metadata": {
    "collapsed": true
   },
   "outputs": [],
   "source": [
    "img_rgb = cv2.imread('new2.jpg')\n",
    "img_gray = cv2.cvtColor(img_rgb, cv2.COLOR_BGR2GRAY)\n"
   ]
  },
  {
   "cell_type": "code",
   "execution_count": 3,
   "metadata": {
    "collapsed": true
   },
   "outputs": [],
   "source": [
    "gaus = cv2.adaptiveThreshold(img_gray, 255, cv2.ADAPTIVE_THRESH_GAUSSIAN_C, cv2.THRESH_BINARY,1005,1 )"
   ]
  },
  {
   "cell_type": "code",
   "execution_count": 4,
   "metadata": {
    "collapsed": true
   },
   "outputs": [],
   "source": [
    "template = cv2.imread('tempnew2.jpg',0)\n",
    "w, h = template.shape[::-1]"
   ]
  },
  {
   "cell_type": "code",
   "execution_count": 5,
   "metadata": {
    "collapsed": true
   },
   "outputs": [],
   "source": [
    "count = 0"
   ]
  },
  {
   "cell_type": "code",
   "execution_count": 6,
   "metadata": {
    "collapsed": true
   },
   "outputs": [],
   "source": [
    "res = cv2.matchTemplate(gaus,template,cv2.TM_CCOEFF_NORMED)\n",
    "threshold = 0.4#to get more accuracy\n",
    "loc = np.where( res >= threshold)"
   ]
  },
  {
   "cell_type": "code",
   "execution_count": 7,
   "metadata": {
    "collapsed": true
   },
   "outputs": [],
   "source": [
    "f = set()#count of matches\n",
    "#https://stackoverflow.com/questions/40824445/how-to-count-the-number-of-objects-detected-with-template-matching"
   ]
  },
  {
   "cell_type": "code",
   "execution_count": 8,
   "metadata": {
    "collapsed": true
   },
   "outputs": [],
   "source": [
    "from collections import defaultdict\n",
    "dict_rect = defaultdict(list)"
   ]
  },
  {
   "cell_type": "code",
   "execution_count": 9,
   "metadata": {},
   "outputs": [],
   "source": [
    "for pt in zip(*loc[::-1]):\n",
    "    cv2.rectangle(img_rgb, pt, (pt[0] + w, pt[1] + h), (0,0,255), 2)\n",
    "    count+=1\n",
    "    sensitivity = 500\n",
    "    f.add((round(pt[0]/sensitivity), round(pt[1]/sensitivity)))\n",
    "    dict_rect[round(pt[0]/sensitivity)].append([pt[0], pt[1]])\n",
    "# print(dict_rect[1])\n",
    "cv2.imshow('Detected',img_rgb)\n"
   ]
  },
  {
   "cell_type": "code",
   "execution_count": 10,
   "metadata": {
    "collapsed": true
   },
   "outputs": [],
   "source": [
    "import pandas as pd\n",
    "from sklearn.cluster import KMeans\n",
    "# img_org = cv2.imread('test1.jpg')\n",
    "gray = cv2.cvtColor(img_rgb,cv2.COLOR_BGR2GRAY)\n",
    "edges = cv2.Canny(gray,50,150,apertureSize = 3)\n",
    "lines = cv2.HoughLines(edges,1,np.pi/2,200)\n",
    "lengh = 1500\n",
    "ls_x = list()\n",
    "ls_y = list()\n",
    "for line in lines:\n",
    "   for rho,theta in line:\n",
    "#         ls_rho.append(rho)\n",
    "#         ls_theta.append(theta)\n",
    "       a = np.cos(theta)\n",
    "       b = np.sin(theta)\n",
    "       \n",
    "       x0 = a*rho\n",
    "       y0 = b*rho\n",
    "       x1 = int(x0 + lengh*(-b))\n",
    "       y1 = int(y0 + lengh*(a))\n",
    "       x2 = int(x0 - lengh*(-b))\n",
    "       y2 = int(y0 - lengh*(a))\n",
    "       ls_x.append(x0)\n",
    "       ls_y.append(y0)\n",
    "\n",
    "ls_y = np.round(ls_y)\n",
    "ls_y = list(set(ls_y))\n",
    "\n",
    "ls_x = np.round(ls_x)\n",
    "ls_x = list(set(ls_x))\n",
    "\n",
    "df_rho = pd.DataFrame(ls_y)\n",
    "kmeans = KMeans(n_clusters=11).fit(df_rho)\n",
    "ls_y  =kmeans.cluster_centers_\n",
    "\n",
    "df_rho = pd.DataFrame(ls_x)\n",
    "kmeans = KMeans(n_clusters=9).fit(df_rho)#why?\n",
    "ls_x  =kmeans.cluster_centers_\n",
    "\n",
    "for y0 in ls_y:\n",
    "   cv2.line(img_rgb,(0,y0),(0+img_rgb.shape[1],y0),(0,0,255),2)\n",
    "\n",
    "for x0 in ls_x:\n",
    "   cv2.line(img_rgb,(x0,0),(x0,0+img_rgb.shape[1]),(0,0,255),2)"
   ]
  },
  {
   "cell_type": "code",
   "execution_count": 11,
   "metadata": {},
   "outputs": [
    {
     "data": {
      "text/plain": [
       "[array([ 217.5]),\n",
       " array([ 375.76744186]),\n",
       " array([ 746.6]),\n",
       " array([ 1000.]),\n",
       " array([ 1259.75]),\n",
       " array([ 1532.66666667]),\n",
       " array([ 1802.77777778]),\n",
       " array([ 2057.18181818]),\n",
       " array([ 2341.77777778]),\n",
       " array([ 2582.]),\n",
       " array([ 2872.33333333])]"
      ]
     },
     "execution_count": 11,
     "metadata": {},
     "output_type": "execute_result"
    }
   ],
   "source": [
    "slsy = sorted(ls_y)\n",
    "slsy"
   ]
  },
  {
   "cell_type": "code",
   "execution_count": 12,
   "metadata": {
    "scrolled": true
   },
   "outputs": [],
   "source": [
    "diff_slsy = [j-i for i, j in zip(slsy[:-1], slsy[1:])]  # or use itertools.izip in py2k\n",
    "avg_diff_slsy = sum(diff_slsy) / float(len(diff_slsy))"
   ]
  },
  {
   "cell_type": "code",
   "execution_count": 13,
   "metadata": {},
   "outputs": [
    {
     "data": {
      "text/plain": [
       "array([ 265.48333333])"
      ]
     },
     "execution_count": 13,
     "metadata": {},
     "output_type": "execute_result"
    }
   ],
   "source": [
    "avg_diff_slsy"
   ]
  },
  {
   "cell_type": "code",
   "execution_count": 14,
   "metadata": {
    "collapsed": true
   },
   "outputs": [],
   "source": [
    "slsx = sorted(ls_x)\n",
    "slsx\n",
    "diff_slsx = [j-i for i, j in zip(ls_x[:-1], ls_y[1:])]  # or use itertools.izip in py2k\n",
    "avg_diff_slsx = sum(diff_slsx) / float(len(diff_slsx))"
   ]
  },
  {
   "cell_type": "code",
   "execution_count": 15,
   "metadata": {},
   "outputs": [
    {
     "data": {
      "text/plain": [
       "[array([ 245.05882353]),\n",
       " array([ 677.]),\n",
       " array([ 1130.]),\n",
       " array([ 1573.85714286]),\n",
       " array([ 1991.]),\n",
       " array([ 2418.25]),\n",
       " array([ 2878.5]),\n",
       " array([ 3283.33333333]),\n",
       " array([ 3702.33333333])]"
      ]
     },
     "execution_count": 15,
     "metadata": {},
     "output_type": "execute_result"
    }
   ],
   "source": [
    "slsx"
   ]
  },
  {
   "cell_type": "code",
   "execution_count": 16,
   "metadata": {},
   "outputs": [
    {
     "data": {
      "text/plain": [
       "array([-253.71111607])"
      ]
     },
     "execution_count": 16,
     "metadata": {},
     "output_type": "execute_result"
    }
   ],
   "source": [
    "avg_diff_slsx"
   ]
  },
  {
   "cell_type": "code",
   "execution_count": 17,
   "metadata": {},
   "outputs": [
    {
     "data": {
      "text/plain": [
       "9"
      ]
     },
     "execution_count": 17,
     "metadata": {},
     "output_type": "execute_result"
    }
   ],
   "source": [
    "len(slsx)"
   ]
  },
  {
   "cell_type": "code",
   "execution_count": 18,
   "metadata": {},
   "outputs": [
    {
     "data": {
      "text/plain": [
       "11"
      ]
     },
     "execution_count": 18,
     "metadata": {},
     "output_type": "execute_result"
    }
   ],
   "source": [
    "len(slsy)"
   ]
  },
  {
   "cell_type": "markdown",
   "metadata": {},
   "source": [
    "# how many matches?"
   ]
  },
  {
   "cell_type": "code",
   "execution_count": 19,
   "metadata": {},
   "outputs": [
    {
     "data": {
      "text/plain": [
       "10"
      ]
     },
     "execution_count": 19,
     "metadata": {},
     "output_type": "execute_result"
    }
   ],
   "source": [
    "#how many matches?\n",
    "len(f)"
   ]
  },
  {
   "cell_type": "code",
   "execution_count": 20,
   "metadata": {},
   "outputs": [
    {
     "data": {
      "text/plain": [
       "True"
      ]
     },
     "execution_count": 20,
     "metadata": {},
     "output_type": "execute_result"
    }
   ],
   "source": [
    "cv2.imwrite(\"output.jpg\", img_rgb)"
   ]
  },
  {
   "cell_type": "code",
   "execution_count": 21,
   "metadata": {
    "collapsed": true
   },
   "outputs": [],
   "source": [
    "import matplotlib.pyplot as plt"
   ]
  },
  {
   "cell_type": "markdown",
   "metadata": {},
   "source": [
    "## Plot for (sample output)"
   ]
  },
  {
   "cell_type": "code",
   "execution_count": 22,
   "metadata": {
    "collapsed": true
   },
   "outputs": [],
   "source": [
    "#corner detectino"
   ]
  },
  {
   "cell_type": "code",
   "execution_count": 23,
   "metadata": {
    "collapsed": true
   },
   "outputs": [],
   "source": [
    "# Final Statstics:"
   ]
  },
  {
   "cell_type": "code",
   "execution_count": 24,
   "metadata": {},
   "outputs": [],
   "source": [
    "people =('MON','TUE','WED','THU','FRI','SAT', 'SUN')\n",
    "rowname = [['E','H'],['F'],['B','C','G'],['H'], ['E'],\n",
    "           ['B','I'],['F']]"
   ]
  },
  {
   "cell_type": "code",
   "execution_count": 25,
   "metadata": {},
   "outputs": [
    {
     "data": {
      "image/png": "[encoded data removed]",
      "text/plain": [
       "<matplotlib.figure.Figure at 0x7f63b1bd8a90>"
      ]
     },
     "metadata": {},
     "output_type": "display_data"
    }
   ],
   "source": [
    "# people = ('Tom', 'Dick', 'Harry', 'Slim', 'Jim')\n",
    "y_pos = np.arange(len(people))\n",
    "performance = [2, 1, 3, 1, 1, 2, 1 ]\n",
    "error = np.random.rand(len(people))\n",
    "\n",
    "plt.barh(y_pos, performance, align='center', alpha=0.4)\n",
    "plt.xticks([1,2,3,4,5,6,7])\n",
    "plt.yticks(y_pos, people)\n",
    "plt.xlabel('How Many activities on that week?')\n",
    "plt.title('Patient Weekly Report')\n",
    "\n",
    "for i in range(7):\n",
    "    plt.text(performance[i],y_pos[i],rowname[i], color='blue', fontweight='bold')\n",
    "\n",
    "plt.savefig('/home/harish/PycharmProjects/Patient_ImageData/analysisoutput', format='svg', dpi=1000)\n",
    "plt.show()"
   ]
  },
  {
   "cell_type": "code",
   "execution_count": 26,
   "metadata": {
    "collapsed": true
   },
   "outputs": [],
   "source": [
    "# y = [160, 167, 137, 18, 120, 36, 155]"
   ]
  }
 ],
 "metadata": {
  "kernelspec": {
   "display_name": "Python 3",
   "language": "python",
   "name": "python3"
  },
  "language_info": {
   "codemirror_mode": {
    "name": "ipython",
    "version": 3
   },
   "file_extension": ".py",
   "mimetype": "text/x-python",
   "name": "python",
   "nbconvert_exporter": "python",
   "pygments_lexer": "ipython3",
   "version": "3.5.2"
  }
 },
 "nbformat": 4,
 "nbformat_minor": 2
}
